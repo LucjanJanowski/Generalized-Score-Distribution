{
  "nbformat": 4,
  "nbformat_minor": 0,
  "metadata": {
    "colab": {
      "name": "Generalized Score Distribution.ipynb",
      "version": "0.3.2",
      "provenance": [],
      "collapsed_sections": [],
      "toc_visible": true,
      "include_colab_link": true
    },
    "kernelspec": {
      "name": "python3",
      "display_name": "Python 3"
    }
  },
  "cells": [
    {
      "cell_type": "markdown",
      "metadata": {
        "id": "view-in-github",
        "colab_type": "text"
      },
      "source": [
        "<a href=\"https://colab.research.google.com/github/LucjanJanowski/Generalized-Score-Distribution/blob/master/Generalized_Score_Distribution.ipynb\" target=\"_parent\"><img src=\"https://colab.research.google.com/assets/colab-badge.svg\" alt=\"Open In Colab\"/></a>"
      ]
    },
    {
      "cell_type": "markdown",
      "metadata": {
        "id": "ielOh8Rj_iSG",
        "colab_type": "text"
      },
      "source": [
        "##### Copyright 2019 Krzystzof Rusek,\n",
        "\n",
        "AGH University of Science and Technology\n",
        "Licensed under the MIT License (the \\\"License\\\");"
      ]
    },
    {
      "cell_type": "code",
      "metadata": {
        "id": "8DQbGbWrAGGb",
        "colab_type": "code",
        "colab": {}
      },
      "source": [
        "#@title Licensed under the MIT License (the \"License\"); { display-mode:\"form\" }\n",
        "# MIT License\n",
        "\n",
        "# Copyright (c) 2018 Krzystzof Rusek and Lucjan Janowski\n",
        "\n",
        "# Permission is hereby granted, free of charge, to any person obtaining a copy\n",
        "# of this software and associated documentation files (the \"Software\"), to deal\n",
        "# in the Software without restriction, including without limitation the rights\n",
        "# to use, copy, modify, merge, publish, distribute, sublicense, and/or sell\n",
        "# copies of the Software, and to permit persons to whom the Software is\n",
        "# furnished to do so, subject to the following conditions:\n",
        "\n",
        "# The above copyright notice and this permission notice shall be included in all\n",
        "# copies or substantial portions of the Software.\n",
        "\n",
        "# THE SOFTWARE IS PROVIDED \"AS IS\", WITHOUT WARRANTY OF ANY KIND, EXPRESS OR\n",
        "# IMPLIED, INCLUDING BUT NOT LIMITED TO THE WARRANTIES OF MERCHANTABILITY,\n",
        "# FITNESS FOR A PARTICULAR PURPOSE AND NONINFRINGEMENT. IN NO EVENT SHALL THE\n",
        "# AUTHORS OR COPYRIGHT HOLDERS BE LIABLE FOR ANY CLAIM, DAMAGES OR OTHER\n",
        "# LIABILITY, WHETHER IN AN ACTION OF CONTRACT, TORT OR OTHERWISE, ARISING FROM,\n",
        "# OUT OF OR IN CONNECTION WITH THE SOFTWARE OR THE USE OR OTHER DEALINGS IN THE\n",
        "# SOFTWARE."
      ],
      "execution_count": 0,
      "outputs": []
    },
    {
      "cell_type": "markdown",
      "metadata": {
        "id": "qecYN8GBFZHv",
        "colab_type": "text"
      },
      "source": [
        "<table class=\"tfo-notebook-buttons\" align=\"left\">\n",
        "  <td>\n",
        "    <a target=\"_blank\" href=\"https://colab.research.google.com/github/LucjanJanowski/Generalized-Score-Distribution/blob/master/Generalized_Score_Distribution.ipynb\"><img src=\"https://www.tensorflow.org/images/colab_logo_32px.png\" />Run in Google Colab</a>\n",
        "  </td>\n",
        "  <td>\n",
        "    <a target=\"_blank\" href=\"https://github.com/LucjanJanowski/Generalized-Score-Distribution/blob/master/Generalized_Score_Distribution.ipynb\"><img src=\"https://www.tensorflow.org/images/GitHub-Mark-32px.png\" />View source on GitHub</a>\n",
        "  </td>\n",
        "</table>"
      ]
    },
    {
      "cell_type": "markdown",
      "metadata": {
        "id": "koLlhIRu1erI",
        "colab_type": "text"
      },
      "source": [
        "# Generalized Score Distribution\n",
        "\n",
        "###### By Bogdan Ćmiel\n",
        "\n",
        "Generalized Score Distributon (GSD) describes a class of two parameters distributions definded on discete support $\\{1, 2, \\cdots, M\\}$ with no more than one change in the probability monotonicity. It means that for increasing index of the probability we can have:\n",
        "* not increasing probabilities \n",
        "* not increasing to the index $k$ and than not decreasing\n",
        "* not decreasing to the index $k$ and than not increasing \n",
        "* not decreasing probabilities\n",
        "\n",
        "The above equations define GSD. \n",
        "\n",
        "Let us denote \n",
        "$$V_{\\mathrm{min}}(\\psi)=(\\lceil\\psi\\rceil-\\psi)(\\psi-\\lfloor\\psi\\rfloor),$$\n",
        "$$V_{\\mathrm{max}}(\\psi)=(\\psi-1)(M-\\psi),$$\n",
        "$$C(\\psi)=\\frac{M-2}{M-1}\\ \\frac{V_{\\mathrm{max}}(\\psi)}{V_{\\mathrm{max}}(\\psi)-V_{\\mathrm{min}}(\\psi)}.$$\n",
        "Let\n",
        "\\begin{equation} \n",
        "\t\\begin{split}\n",
        "\t\tP_{F_\\rho} & (\\epsilon=k-\\psi)=  \n",
        "\t\t \\frac{\\rho-C(\\psi)}{1-C(\\psi)}[1-|k-\\psi|]_{+} + \\frac{1-\\rho}{1-C(\\psi)} \n",
        "\t\t \\binom{M-1}{k-1}\\left(\\frac{\\psi-1}{M-1}\\right)^{k-1}\\left(\\frac{M-\\psi}{M-1}\\right)^{M-k},\n",
        "\t\\end{split}\n",
        "\\end{equation}\n",
        "where $\\rho\\in[C(\\psi),1]$, $k=1,...,M$ and\n",
        "\\begin{equation}\n",
        "\t\\begin{split}\n",
        "\tP_{G_{\\rho}}& (\\epsilon=k-\\psi)\t= \\binom{M-1}{k-1}\\\\\n",
        "\t& \\frac{\\mathcal{B}\\left(\\frac{(\\psi-1)\\rho}{(M-1)(C(\\psi)-\\rho)}+k-1,\\frac{(M-\\psi)\\rho}{(M-1)(C(\\psi)-\\rho)}+M-k\\right)}{\\mathcal{B}\\left(\\frac{(\\psi-1)\\rho}{(M-1)(C(\\psi)-\\rho)},\\frac{(M-\\psi)\\rho}{(M-1)(C(\\psi)-\\rho)}\\right)}, \n",
        "\t\\end{split}\n",
        "\\end{equation}\n",
        "where $\\rho\\in(0,C(\\psi))$, $k=1,...,M$.\n",
        "\n",
        "If we denote by $H_{\\rho}$ the distribution function of the noise then we will assume that\n",
        "\n",
        "$$ H_{\\rho}=G_\\rho\\ I(\\rho<C(\\psi)) + F_\\rho\\ I(\\rho\\geq C(\\psi))$$\n",
        "\n",
        "where $\\rho\\in(0,1]$ is a confidence parameter (see Remark ).\n"
      ]
    },
    {
      "cell_type": "markdown",
      "metadata": {
        "id": "WiQNFIqtAfHX",
        "colab_type": "text"
      },
      "source": [
        "\n",
        "### Remark\n",
        "\n",
        "The variance of the noise is equal to\n",
        "$$\\mathbb{V}_{H_{\\rho}}(\\epsilon)=\\rho V_{\\mathrm{min}}(\\psi)+(1-\\rho)V_{\\mathrm{max}}(\\psi).$$ \n",
        "\n",
        "Since the variance of the noise is a decreasing function of $\\rho\\in(0,1]$ then this parameter has an interpretation as a confidence parameter. \n",
        "\n",
        "\n",
        "From this moment we will assume the following\n",
        " \n",
        "$$U=\\psi+\\epsilon,$$ \n",
        "where $\\psi\\in[1,M]$ is an unknown parameter, $\\epsilon$ are independent random variables with distribution functions $H_{\\rho}$, where $\\rho\\in(0,1]$ is an unknown parameter.\n",
        "\n",
        "\n",
        "\n"
      ]
    },
    {
      "cell_type": "markdown",
      "metadata": {
        "id": "YD7NfXOA7SL1",
        "colab_type": "text"
      },
      "source": [
        "# Implementation\n"
      ]
    },
    {
      "cell_type": "code",
      "metadata": {
        "id": "k17TRXyC36JR",
        "colab_type": "code",
        "cellView": "form",
        "colab": {}
      },
      "source": [
        "#@title Imports\n",
        "\n",
        "import tensorflow as tf\n",
        "import tensorflow_probability as tfp\n",
        "import numpy as np\n",
        "import seaborn as sns\n",
        "import matplotlib.pyplot as plt\n",
        "sns.set()\n",
        "%config InlineBackend.figure_format = 'retina'"
      ],
      "execution_count": 0,
      "outputs": []
    },
    {
      "cell_type": "code",
      "metadata": {
        "id": "s8aPVHTx4N15",
        "colab_type": "code",
        "colab": {}
      },
      "source": [
        "#@title Functions { run: \"auto\", vertical-output: true, display-mode: \"form\" }\n",
        "#@markdown Definition of `log_prob` and `sample` functions\n",
        "\n",
        "def log_newton(n,k):\n",
        "    '''\n",
        "    Logarithm of Binomial symbol - made to be numerically stable \n",
        "    '''\n",
        "    return tf.math.lgamma(n+1) -\\\n",
        "          tf.math.lgamma(k+1) -\\\n",
        "          tf.math.lgamma(n-k+1)\n",
        "\n",
        "def log_beta(x,y):\n",
        "    return tf.math.lgamma(x) + tf.math.lgamma(y) - tf.math.lgamma(x+y) \n",
        "\n",
        "def log_prob(psi, rho, u, M, dtype=tf.float64):\n",
        "    \"\"\"\n",
        "     log of Generalized Score Distribution\n",
        "    Args:\n",
        "        psi - psi parameters \n",
        "        rho - $rho in (0,1)$ parameters\n",
        "        u - the value for which we are looking for the probability 1, 2, 3, 4,...M\n",
        "    Returns\n",
        "        lprob - log of the given probability\n",
        "    \"\"\"\n",
        "    \n",
        "    c1 = tf.constant(1.0, dtype=dtype)\n",
        "    c2 = tf.constant(2.0, dtype=dtype)\n",
        "\n",
        "  \n",
        "    Vmin = (tf.math.ceil(psi)-psi)*(psi-tf.math.floor(psi))\n",
        "    Vmax = (psi-c1)*(M-psi)\n",
        "    C = (M-c2)/(M-c1)*Vmax/(Vmax - Vmin)\n",
        "    \n",
        "    log_beta_bin = log_newton(M-c1,u-c1) + \\\n",
        "        log_beta(rho*(psi-c1)/( (M-c1) *(C-rho))+u -c1, (M-psi)*rho/( (M-c1) *(C-rho)) + M -u) - \\\n",
        "        log_beta(rho*(psi-c1)/( (M-c1) *(C-rho)), (M-psi)*rho/( (M-c1) *(C-rho)))\n",
        "    \n",
        "    log_binomial =  log_newton(M-c1,u-c1) + \\\n",
        "        (u-c1)*(tf.math.log(psi-c1) - tf.math.log(M-c1) ) + \\\n",
        "        (M -u)*(tf.math.log(M-psi) - tf.math.log(M-c1) )\n",
        "    \n",
        "    dist_binomial = tf.exp(log_newton(M-c1,u-c1))*tf.pow(psi-c1,u-c1)*tf.pow(M-psi,M-u)/tf.pow(M-c1,M-c1)\n",
        "    dist_min = tf.nn.relu(c1 - tf.abs(u-psi))\n",
        "    \n",
        "    ratio = (rho -C)/(c1-rho)*dist_min/dist_binomial\n",
        "    \n",
        "    logmix = log_binomial + tf.math.log1p(-rho) - tf.math.log1p(-C) + \\\n",
        "        tf.math.log1p(ratio)\n",
        "    \n",
        "    condition = tf.broadcast_to(rho,shape=u.shape) < C\n",
        "    \n",
        "    lprob = tf.where(condition,log_beta_bin, logmix)\n",
        "    return lprob\n",
        "\n",
        "def convert_and_brodcast(n, shape, dtype):\n",
        "    '''Broadcast with type convertion\n",
        "    Args:\n",
        "        n (Tensor)\n",
        "        shape (tensor_shape)\n",
        "        \n",
        "    Returns:\n",
        "        Converted and broadcasted n\n",
        "    '''\n",
        "    tn = tf.convert_to_tensor(n,dtype=dtype)\n",
        "    brodcasted = tf.broadcast_to(tn,shape)\n",
        "    return brodcasted\n",
        "\n",
        "def sample(psi,rho,M,num_samples=1, dtype=tf.float64):\n",
        "    '''\n",
        "    Sample the Generalized Score Distribution. \n",
        "    Args:\n",
        "        psi - psi parameters \n",
        "        rho - rho parameters\n",
        "        num_samples - number of samples for specific psi and rho pair\n",
        "    Returns:\n",
        "        tensor with 3 dimensions if num_samples > 1, we should use more than one psi and rho\n",
        "    '''\n",
        "\n",
        "    support=tf.linspace(1.,M,tf.cast(M,tf.int32))\n",
        "    support = tf.cast(support, dtype)\n",
        "\n",
        "    lprobs = log_prob(psi,rho,support,M)\n",
        "    lprobs = tf.expand_dims(lprobs, axis=0)\n",
        "    samples = 1+tf.random.categorical(lprobs, num_samples=num_samples)\n",
        "    return samples\n"
      ],
      "execution_count": 0,
      "outputs": []
    },
    {
      "cell_type": "markdown",
      "metadata": {
        "id": "uQBKp71f7a3b",
        "colab_type": "text"
      },
      "source": [
        "# Fit\n",
        "\n",
        "* Estimate parameters for your own data \n",
        "* Test estimation accuracy \n",
        "* Plot the probability mass function\n",
        "\n",
        "***Double click the form title to check the implementation details***"
      ]
    },
    {
      "cell_type": "code",
      "metadata": {
        "id": "gUjoqp6N2F1t",
        "colab_type": "code",
        "outputId": "1d0625d9-3542-4209-d549-a0e55891b930",
        "colab": {
          "base_uri": "https://localhost:8080/",
          "height": 51
        }
      },
      "source": [
        "#@title User data {vertical-output: true, display-mode: \"form\" }\n",
        "\n",
        "max_score=5 #@param {type:\"integer\"}\n",
        "max_step=5000 #@param {type:\"integer\"}\n",
        "grad_tol=1e-8 #@param {type:\"number\"}\n",
        "#@markdown Enter coma separated scores\n",
        "scores='5,5,5,4,3,3' #@param {type:\"string\"}\n",
        "\n",
        "\n",
        "scores = [int(i) for i in scores.split(',')]\n",
        "\n",
        "\n",
        "g=tf.Graph()\n",
        "\n",
        "with g.as_default():\n",
        "\n",
        "    samples = tf.convert_to_tensor(scores)\n",
        "    u = tf.cast(samples, tf.float64)\n",
        "    M=tf.convert_to_tensor(max_score,dtype=tf.float64)\n",
        "\n",
        "    varrho = tf.Variable(tf.random_normal([],dtype=tf.float64,stddev=1.1))\n",
        "    varpsi = tf.Variable(tf.random_normal([],dtype=tf.float64,stddev=0.1))\n",
        "\n",
        "    bottom = tf.constant(1.0, dtype=tf.float64)\n",
        "    top = tf.convert_to_tensor(M-1, dtype=tf.float64)\n",
        "\n",
        "\n",
        "    rho = tf.nn.sigmoid(varrho) # [0,1]\n",
        "    psi = bottom + top * tf.nn.sigmoid(varpsi) # [1,M]\n",
        "\n",
        "\n",
        "    loglik = log_prob(psi,rho,u,M)\n",
        "    loss = -tf.reduce_mean(loglik)\n",
        "    optimizer = tf.train.RMSPropOptimizer(learning_rate=0.01)\n",
        "\n",
        "    v = [varpsi, varrho]\n",
        "    grad = tf.gradients(loss,v)\n",
        "    train_op = optimizer.apply_gradients(zip(grad,v))\n",
        "\n",
        "\n",
        "with tf.Session(graph=g) as ses:\n",
        "    ses.run(tf.global_variables_initializer())\n",
        "    for i in range(max_step):\n",
        "        _,l,pygrad,psihat,rhohat = ses.run([train_op,loss,grad,psi,rho])\n",
        "        if max(map(np.linalg.norm, pygrad)) < grad_tol:\n",
        "            break\n",
        "        if i % 100 ==0:\n",
        "          print('#',end='')\n",
        "    psi_hat, rho_hat = ses.run([psi,rho])\n",
        "\n",
        "print('')\n",
        "print('Ψ={0:.3f}, ρ={1:.3f}'.format( psi_hat, rho_hat))"
      ],
      "execution_count": 0,
      "outputs": [
        {
          "output_type": "stream",
          "text": [
            "##################################################\n",
            "Ψ=4.176, ρ=0.709\n"
          ],
          "name": "stdout"
        }
      ]
    },
    {
      "cell_type": "code",
      "metadata": {
        "id": "uYC-0FJmHLll",
        "colab_type": "code",
        "outputId": "70a65922-0307-44b8-c158-15035e9cb01e",
        "colab": {
          "base_uri": "https://localhost:8080/",
          "height": 53
        }
      },
      "source": [
        "#@title  Fitting from random sample { vertical-output: true, display-mode: \"form\" }\n",
        "\n",
        "max_score=8 #@param {type:\"integer\"}\n",
        "max_step=5000 #@param {type:\"integer\"}\n",
        "grad_tol=1e-8 #@param {type:\"number\"}\n",
        "\n",
        "true_psi=5.3 #@param {type:\"number\"}\n",
        "\n",
        "true_rho=0.5 #@param {type:\"number\"}\n",
        "\n",
        "n_samples=80 #@param {type:\"integer\"}\n",
        "\n",
        "g=tf.Graph()\n",
        "\n",
        "with g.as_default():\n",
        "\n",
        "    samples= sample(np.float64(true_psi),np.float64(true_rho),np.float64(max_score),n_samples)\n",
        "\n",
        "\n",
        "    u = tf.cast(samples, tf.float64)\n",
        "    M=tf.convert_to_tensor(max_score,dtype=tf.float64)\n",
        "\n",
        "    varrho = tf.Variable(tf.random_normal([],dtype=tf.float64,stddev=1.1))\n",
        "    varpsi = tf.Variable(tf.random_normal([],dtype=tf.float64,stddev=0.1))\n",
        "\n",
        "    c1 = tf.constant(1.0, dtype=tf.float64)\n",
        "    top = tf.convert_to_tensor(M-1, dtype=tf.float64)\n",
        "\n",
        "\n",
        "    rho = tf.nn.sigmoid(varrho) # [0,1]\n",
        "    psi = c1 + top * tf.nn.sigmoid(varpsi) # [1,M]\n",
        "\n",
        "\n",
        "    ll = log_prob(psi,rho,u,M)\n",
        "    loss = -tf.reduce_mean(ll)\n",
        "    optimizer = tf.train.RMSPropOptimizer(learning_rate=0.01)\n",
        "\n",
        "    v = [varpsi, varrho]\n",
        "    grad = tf.gradients(loss,v)\n",
        "    train_op = optimizer.apply_gradients(zip(grad,v))\n",
        "\n",
        "\n",
        "with tf.Session(graph=g) as ses:\n",
        "    ses.run(tf.global_variables_initializer())\n",
        "    for i in range(max_step):\n",
        "        _,l,pygrad,psihat,rhohat = ses.run([train_op,loss,grad,psi,rho])\n",
        "        if max(map(np.linalg.norm, pygrad)) < grad_tol:\n",
        "            break\n",
        "        if i % 100 ==0:\n",
        "          print('#',end='')\n",
        "    psi_hat, rho_hat = ses.run([psi,rho])\n",
        "\n",
        "print('\\nΨ={0:.3f}, ρ={1:.3f}'.format( psi_hat, rho_hat))"
      ],
      "execution_count": 0,
      "outputs": [
        {
          "output_type": "stream",
          "text": [
            "##################################################\n",
            "Ψ=5.292, ρ=0.503\n"
          ],
          "name": "stdout"
        }
      ]
    },
    {
      "cell_type": "code",
      "metadata": {
        "colab_type": "code",
        "outputId": "ecdbf267-6812-4c64-811b-99d7a1f96470",
        "id": "G8xU6OjQM4o7",
        "colab": {
          "base_uri": "https://localhost:8080/",
          "height": 271
        }
      },
      "source": [
        "#@title Distribution { run: \"auto\", vertical-output: true, display-mode: \"form\" }\n",
        "\n",
        "max_score=8 #@param {type:\"integer\"}\n",
        "psi=7.2 #@param {type:\"number\", min:1.0}\n",
        "rho = 0.9 #@param {type:\"slider\", min:0.01, max:1, step:0.01}\n",
        "\n",
        "\n",
        "\n",
        "g=tf.Graph()\n",
        "\n",
        "with g.as_default():\n",
        "\n",
        "    support=tf.linspace(1.,max_score,max_score)\n",
        "    support = tf.cast(support, tf.float64)\n",
        "\n",
        "    lprobs = log_prob(np.float64(psi),\n",
        "                      np.float64(rho),\n",
        "                      support,\n",
        "                      np.float64(max_score))\n",
        "\n",
        "    probs = tf.exp(lprobs)\n",
        "\n",
        "    \n",
        "\n",
        "\n",
        "with tf.Session(graph=g) as ses:\n",
        "    pyprobs,pysupport=ses.run([probs,support])\n",
        "    #print(pyprobs);\n",
        "\n",
        "\n",
        "ax=plt.subplot();\n",
        "\n",
        "ax.stem(pysupport, pyprobs);\n",
        "ax.axvline(psi, color='black');\n",
        "\n",
        "ax.legend(['mean','distribution']);"
      ],
      "execution_count": 0,
      "outputs": [
        {
          "output_type": "display_data",
          "data": {
            "image/png": "[encoded data removed]",
            "text/plain": [
              "<Figure size 432x288 with 1 Axes>"
            ]
          },
          "metadata": {
            "tags": [],
            "image/png": {
              "width": 379,
              "height": 254
            }
          }
        }
      ]
    }
  ]
}
